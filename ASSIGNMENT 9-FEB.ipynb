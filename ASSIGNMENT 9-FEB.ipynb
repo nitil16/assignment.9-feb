{
 "cells": [
  {
   "cell_type": "markdown",
   "id": "170c0d28-724e-4d87-84f2-15e92ea85acb",
   "metadata": {},
   "source": [
    "                                            ASSIGNMENT 9-FEB"
   ]
  },
  {
   "cell_type": "markdown",
   "id": "7f8692f6-8c3a-41da-9388-6261c7b22ce0",
   "metadata": {},
   "source": [
    "QUESTION.1"
   ]
  },
  {
   "cell_type": "markdown",
   "id": "c913602f-4fae-4899-93d8-bd2a935756bc",
   "metadata": {},
   "source": [
    "Q1. Create a vehicle class with an init method having instance variables as name_of_vehicle, max_speed\n",
    "and average_of_vehicle."
   ]
  },
  {
   "cell_type": "markdown",
   "id": "31b264f1-0b73-43aa-b40a-3252117d2dc5",
   "metadata": {},
   "source": [
    "Ans."
   ]
  },
  {
   "cell_type": "code",
   "execution_count": 2,
   "id": "8ba314e1-b1a3-4650-adba-ab991764c119",
   "metadata": {},
   "outputs": [],
   "source": [
    "class vehicle:\n",
    "    def __init__(self,name_of_vehicle,max_speed,average_of_vehicle):\n",
    "        \n",
    "        \n",
    "        self.name_of_vehicle = name_of_vehicle\n",
    "        self.max_speed = max_speed\n",
    "        self.average_of_vehicle = average_of_vehicle\n"
   ]
  },
  {
   "cell_type": "code",
   "execution_count": 12,
   "id": "b03c8b92-3c61-4c0b-b4e7-6cbb9371b39a",
   "metadata": {},
   "outputs": [
    {
     "name": "stdout",
     "output_type": "stream",
     "text": [
      "My vehicle name is Kia Seltos\n",
      "It has max speed of 170 kmph\n",
      "It has Average Mileage of 18.5 kmpl\n"
     ]
    }
   ],
   "source": [
    "my_car = vehicle('Kia Seltos',170,18.5)\n",
    "print(f'My vehicle name is {my_car.name_of_vehicle}')\n",
    "print(f'It has max speed of {my_car.max_speed} kmph')\n",
    "print(f'It has Average Mileage of {my_car.average_of_vehicle} kmpl')"
   ]
  },
  {
   "cell_type": "markdown",
   "id": "d1087dc1-5fa3-421f-8771-47a65e45dccf",
   "metadata": {},
   "source": [
    "QUESTION2."
   ]
  },
  {
   "cell_type": "markdown",
   "id": "0de91477-9128-442a-b254-87b0d79ae27e",
   "metadata": {},
   "source": [
    "Q2. Create a child class car from the vehicle class created in Que 1, which will inherit the vehicle class.\n",
    "Create a method named seating_capacity which takes capacity as an argument and returns the name of\n",
    "the vehicle and its seating capacity."
   ]
  },
  {
   "cell_type": "markdown",
   "id": "80e5016f-2916-4118-b45e-b501df8df890",
   "metadata": {},
   "source": [
    "Ans."
   ]
  },
  {
   "cell_type": "code",
   "execution_count": 13,
   "id": "f631325e-76dc-4227-864c-a98de59e4da3",
   "metadata": {},
   "outputs": [],
   "source": [
    "class car(vehicle):\n",
    "\n",
    "    def seating_capacity(self,capacity):\n",
    "        \n",
    "        \n",
    "        self.capacity = capacity\n",
    "        return self.name_of_vehicle, self.capacity"
   ]
  },
  {
   "cell_type": "code",
   "execution_count": 14,
   "id": "3f1f33e2-bd30-4c08-b135-17695d3bb45e",
   "metadata": {},
   "outputs": [
    {
     "data": {
      "text/plain": [
       "('MG Hector', 5)"
      ]
     },
     "execution_count": 14,
     "metadata": {},
     "output_type": "execute_result"
    }
   ],
   "source": [
    "friends_car = car('MG Hector',195,14)\n",
    "friends_car.seating_capacity(5)"
   ]
  },
  {
   "cell_type": "markdown",
   "id": "2039cb57-d8e8-4807-af2d-980463cc12cd",
   "metadata": {},
   "source": [
    "QUESTION.3"
   ]
  },
  {
   "cell_type": "markdown",
   "id": "cc7fa092-4bf7-4556-9b26-4c443320d942",
   "metadata": {},
   "source": [
    "Q3. What is multiple inheritance? Write a python code to demonstrate multiple inheritance."
   ]
  },
  {
   "cell_type": "markdown",
   "id": "bbe9567e-eda7-4ffe-804f-151bc0ffbced",
   "metadata": {},
   "source": [
    "Ans.  if a child class inherits from more than one class, i.e. this child class is derived from multiple classes, we call it multiple inheritance in Python.\n",
    "This newly derived child class will inherit the properties of all the classes that it is derived from."
   ]
  },
  {
   "cell_type": "code",
   "execution_count": 15,
   "id": "244033dc-8880-471b-8b7f-079203c92138",
   "metadata": {},
   "outputs": [],
   "source": [
    "class Dad():\n",
    "\t# writing a method for parent class 1\n",
    "\tdef guitar(self):\n",
    "\t\tprint(\"Dad plays guitar!\")\n",
    "\t\t\n",
    "# creating a class for mother\n",
    "class Mom():\n",
    "\t# method for parent class 2\n",
    "\tdef cooking(self):\n",
    "\t\tprint(\"Mom cooks well\")\n",
    "\n",
    "# creating derived class which inherits from 2 parent classes\n",
    "class Child(Dad, Mom):\n",
    "\tdef sing_and_foodie(self):\n",
    "\t\tprint(\"Kid loves to sing and is a foodie\")"
   ]
  },
  {
   "cell_type": "code",
   "execution_count": 16,
   "id": "7aa74cf8-8e18-4101-b71c-ab50aecfa092",
   "metadata": {},
   "outputs": [
    {
     "name": "stdout",
     "output_type": "stream",
     "text": [
      "Dad plays guitar!\n",
      "Mom cooks well\n",
      "Kid loves to sing and is a foodie\n"
     ]
    }
   ],
   "source": [
    "# creating object of the new derived class\n",
    "child = Child()\n",
    "\n",
    "# calling methods of parent classes and derived class\n",
    "child.guitar()\n",
    "child.cooking()\n",
    "child.sing_and_foodie()"
   ]
  },
  {
   "cell_type": "markdown",
   "id": "ab4f6f4c-eb90-41ee-be6b-142c6349e1ec",
   "metadata": {},
   "source": [
    "Question 4"
   ]
  },
  {
   "cell_type": "markdown",
   "id": "c8490e7f-613a-466f-bf77-e4b065fd19fb",
   "metadata": {},
   "source": [
    "Q4. What are getter and setter in python? Create a class and create a getter and a setter method in this\n",
    "class."
   ]
  },
  {
   "cell_type": "markdown",
   "id": "05715fe3-2360-423f-a07e-8626e9c20a87",
   "metadata": {},
   "source": [
    "Ans. \n",
    "Getters : These are the methods used in Object-Oriented Programming (OOPS) which helps to access the private attributes from a class.\n",
    "\n",
    "Setters : These are the methods used in OOPS feature which helps to set the value to private attributes in a class"
   ]
  },
  {
   "cell_type": "code",
   "execution_count": 17,
   "id": "55c7d739-1dac-4257-b29f-d8dc5cc049d0",
   "metadata": {},
   "outputs": [],
   "source": [
    "class employee:\n",
    "\n",
    "    def __init__(self,name,employee_id):\n",
    "        \n",
    "        \n",
    "        self.__name = name\n",
    "        self.__employee_id = employee_id\n",
    "    \n",
    "    def get_employee_id(self):\n",
    "        \n",
    "        \n",
    "        return self.__employee_id\n",
    "    \n",
    "    def set_employee_id(self,new_id):\n",
    "        \n",
    "        \n",
    "        self.__employee_id = new_id"
   ]
  },
  {
   "cell_type": "code",
   "execution_count": 21,
   "id": "d279f52a-63c8-4171-b6df-11d273ca8a68",
   "metadata": {},
   "outputs": [
    {
     "data": {
      "text/plain": [
       "'123'"
      ]
     },
     "execution_count": 21,
     "metadata": {},
     "output_type": "execute_result"
    }
   ],
   "source": [
    "emp1 = employee('Nitil','123')\n",
    "emp1.get_employee_id()"
   ]
  },
  {
   "cell_type": "code",
   "execution_count": 22,
   "id": "f1bcb5ff-928b-4de8-9e1b-946c9f797a6c",
   "metadata": {},
   "outputs": [],
   "source": [
    "emp1.set_employee_id('007')"
   ]
  },
  {
   "cell_type": "code",
   "execution_count": 23,
   "id": "5c37c351-249a-4bdd-83bf-47e29715abf9",
   "metadata": {},
   "outputs": [
    {
     "data": {
      "text/plain": [
       "'007'"
      ]
     },
     "execution_count": 23,
     "metadata": {},
     "output_type": "execute_result"
    }
   ],
   "source": [
    "emp1.get_employee_id()"
   ]
  },
  {
   "cell_type": "markdown",
   "id": "d4c77398-3da0-4fd3-9714-3f3e3ba6390e",
   "metadata": {},
   "source": [
    "QUESTION.5"
   ]
  },
  {
   "cell_type": "markdown",
   "id": "a84fbf33-556d-45f2-9fc8-ec558626d944",
   "metadata": {},
   "source": [
    "Q5. What is method overriding in python? Write a python code to demonstrate method overriding."
   ]
  },
  {
   "cell_type": "markdown",
   "id": "50973df0-98b4-44b8-a7c7-e954fa450772",
   "metadata": {},
   "source": [
    "Ans. Method overriding is a feature of object-oriented programming languages where the subclass or child class can provide the program with specific characteristics or a specific implementation process of data provided that are already defined in the parent class or superclass."
   ]
  },
  {
   "cell_type": "code",
   "execution_count": null,
   "id": "45bbca7f-bf4f-4de5-bf7e-35929a3bd1fc",
   "metadata": {},
   "outputs": [],
   "source": [
    "class Animal:\n",
    "    def Walk(self):\n",
    "        print('Hello, I am the parent class Animal')\n",
    "    \n",
    "    def communicate(self):\n",
    "        print('This is how animal communicates.')\n",
    "\n",
    "class Cat(Animal):\n",
    "    def Walk(self):\n",
    "        print('Hello, I am the child class Cat')\n",
    "    \n",
    "    def meow(self):\n",
    "        print('Cat communicates with Meows') "
   ]
  }
 ],
 "metadata": {
  "kernelspec": {
   "display_name": "Python 3 (ipykernel)",
   "language": "python",
   "name": "python3"
  },
  "language_info": {
   "codemirror_mode": {
    "name": "ipython",
    "version": 3
   },
   "file_extension": ".py",
   "mimetype": "text/x-python",
   "name": "python",
   "nbconvert_exporter": "python",
   "pygments_lexer": "ipython3",
   "version": "3.10.8"
  }
 },
 "nbformat": 4,
 "nbformat_minor": 5
}
